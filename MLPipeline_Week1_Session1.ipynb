{
  "nbformat": 4,
  "nbformat_minor": 0,
  "metadata": {
    "colab": {
      "provenance": [],
      "include_colab_link": true
    },
    "kernelspec": {
      "name": "python3",
      "display_name": "Python 3"
    },
    "language_info": {
      "name": "python"
    }
  },
  "cells": [
    {
      "cell_type": "markdown",
      "metadata": {
        "id": "view-in-github",
        "colab_type": "text"
      },
      "source": [
        "<a href=\"https://colab.research.google.com/github/ktanguy/BUMI/blob/main/MLPipeline_Week1_Session1.ipynb\" target=\"_parent\"><img src=\"https://colab.research.google.com/assets/colab-badge.svg\" alt=\"Open In Colab\"/></a>"
      ]
    },
    {
      "cell_type": "code",
      "execution_count": null,
      "metadata": {
        "id": "0x8PhK9DkB9t"
      },
      "outputs": [],
      "source": [
        "# Importing libraries\n",
        "import pandas as pd\n",
        "import numpy as np\n",
        "import requests\n",
        "from io import StringIO"
      ]
    },
    {
      "cell_type": "code",
      "source": [
        "\"\"\" Loading the data \"\"\"\n",
        "\n",
        "# Read the data\n",
        "url = \"https://pynative.com/wp-content/uploads/2019/01/Automobile_data.csv\"\n",
        "\n",
        "# Send request with headers\n",
        "headers = {'User-Agent': 'Mozilla/5.0'}\n",
        "response = requests.get(url, headers=headers)\n",
        "\n",
        "# Load into pandas\n",
        "df = pd.read_csv(StringIO(response.text))\n",
        "df.info()"
      ],
      "metadata": {
        "colab": {
          "base_uri": "https://localhost:8080/"
        },
        "id": "4HgEumxnkJNz",
        "outputId": "1b0debba-ec38-42ce-df76-d7206c2af724"
      },
      "execution_count": null,
      "outputs": [
        {
          "output_type": "stream",
          "name": "stdout",
          "text": [
            "<class 'pandas.core.frame.DataFrame'>\n",
            "RangeIndex: 61 entries, 0 to 60\n",
            "Data columns (total 10 columns):\n",
            " #   Column            Non-Null Count  Dtype  \n",
            "---  ------            --------------  -----  \n",
            " 0   index             61 non-null     int64  \n",
            " 1   company           61 non-null     object \n",
            " 2   body-style        61 non-null     object \n",
            " 3   wheel-base        61 non-null     float64\n",
            " 4   length            61 non-null     float64\n",
            " 5   engine-type       61 non-null     object \n",
            " 6   num-of-cylinders  61 non-null     object \n",
            " 7   horsepower        61 non-null     int64  \n",
            " 8   average-mileage   61 non-null     int64  \n",
            " 9   price             58 non-null     float64\n",
            "dtypes: float64(3), int64(3), object(4)\n",
            "memory usage: 4.9+ KB\n"
          ]
        }
      ]
    },
    {
      "cell_type": "code",
      "source": [
        "# Print the first and last five columns"
      ],
      "metadata": {
        "id": "jaAilnkqkTnY"
      },
      "execution_count": null,
      "outputs": []
    },
    {
      "cell_type": "code",
      "source": [
        "# Identify missing values and choose a method to replace them"
      ],
      "metadata": {
        "id": "SVLL09RhlIHc"
      },
      "execution_count": null,
      "outputs": []
    },
    {
      "cell_type": "code",
      "source": [
        "# Print the most expensive car, the company name, and the price."
      ],
      "metadata": {
        "id": "ZhT12ZI9lM9b"
      },
      "execution_count": null,
      "outputs": []
    },
    {
      "cell_type": "code",
      "source": [
        "# Count total cars per company"
      ],
      "metadata": {
        "id": "7txhJGntlUpi"
      },
      "execution_count": null,
      "outputs": []
    },
    {
      "cell_type": "code",
      "source": [
        "# Find each company’s highest-priced car"
      ],
      "metadata": {
        "id": "bALqomL0lZc6"
      },
      "execution_count": null,
      "outputs": []
    },
    {
      "cell_type": "code",
      "source": [
        "# Find the average mileage of each car-making company"
      ],
      "metadata": {
        "id": "Xj8M0T88lciK"
      },
      "execution_count": null,
      "outputs": []
    },
    {
      "cell_type": "code",
      "source": [
        "# Sort all cars by the price column"
      ],
      "metadata": {
        "id": "aJ3x7dhilhX0"
      },
      "execution_count": null,
      "outputs": []
    }
  ]
}